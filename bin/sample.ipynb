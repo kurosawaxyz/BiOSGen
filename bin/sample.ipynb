{
 "cells": [
  {
   "cell_type": "code",
   "execution_count": 1,
   "id": "ea91d456",
   "metadata": {},
   "outputs": [],
   "source": [
    "# Basic libraries\n",
    "import torch\n",
    "import torch.nn as n\n",
    "import torch.nn.functional as F\n",
    "import numpy as np\n",
    "import pandas as pd\n",
    "import matplotlib.pyplot as plt\n",
    "import os\n",
    "from PIL import Image\n",
    "from typing import List\n",
    "import torch.optim as optim\n",
    "from tqdm import tqdm\n",
    "from omegaconf import OmegaConf"
   ]
  },
  {
   "cell_type": "code",
   "execution_count": 2,
   "id": "ebf04440",
   "metadata": {},
   "outputs": [],
   "source": [
    "def adain(content_feat, style_feat, eps=1e-5):\n",
    "    c_mean, c_std = content_feat.mean([2, 3], keepdim=True), content_feat.std([2, 3], keepdim=True) + eps\n",
    "    s_mean, s_std = style_feat.mean([2, 3], keepdim=True), style_feat.std([2, 3], keepdim=True) + eps\n",
    "    return s_std * (content_feat - c_mean) / c_std + s_mean\n"
   ]
  },
  {
   "cell_type": "code",
   "execution_count": 4,
   "id": "eef7a958",
   "metadata": {},
   "outputs": [
    {
     "name": "stdout",
     "output_type": "stream",
     "text": [
      "Output shape: torch.Size([1, 64, 128, 128])\n"
     ]
    }
   ],
   "source": [
    "content = torch.randn(1, 64, 128, 128)\n",
    "style = torch.randn(1, 64, 128, 128)\n",
    "output = adain(content, style)\n",
    "print(\"Output shape:\", output.shape)"
   ]
  },
  {
   "cell_type": "code",
   "execution_count": null,
   "id": "5a2cfc85",
   "metadata": {},
   "outputs": [],
   "source": []
  }
 ],
 "metadata": {
  "kernelspec": {
   "display_name": "flashenv",
   "language": "python",
   "name": "python3"
  },
  "language_info": {
   "codemirror_mode": {
    "name": "ipython",
    "version": 3
   },
   "file_extension": ".py",
   "mimetype": "text/x-python",
   "name": "python",
   "nbconvert_exporter": "python",
   "pygments_lexer": "ipython3",
   "version": "3.10.16"
  }
 },
 "nbformat": 4,
 "nbformat_minor": 5
}
