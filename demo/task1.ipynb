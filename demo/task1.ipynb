{
 "cells": [
  {
   "cell_type": "markdown",
   "id": "7290f5fc",
   "metadata": {},
   "source": [
    "# Task 1: Data Preparation\n",
    "\n",
    "## Preliminary\n",
    "This task involves preparing the dataset for training the model. It includes data cleaning, normalization, and splitting the raw histology images into smaller ready-to-use patches. \n",
    "\n",
    "The reason why we need to split the images into patches is due to two main factors:\n",
    "1. **Memory Constraints**: Large images can be too big to fit into memory, especially when working with high-resolution histology images. A histology image contains a lot of information, with over 5000x5000 pixels. Processing them together, alongside with an exponentially larger network, currently there is no GPU that can handle this, the fact is that it's not even possible to process to the second epoch on a patch of size 1024x1024, which is nearly 5 times smaller than the original image.\n",
    "\n",
    "2. **Model Performance**: Smaller patches allow the model to focus on local features, which will indeniably improve the performance of the model. Supposing that there exists a GPU that can handle the full image, the model will still struggle to learn the local features, which are crucial for histology images. The model will be overwhelmed by the global features, which are not as important for the task at hand.\n",
    "\n",
    "### Repository Structure & Files Function\n",
    "\n",
    "```txt\n",
    "BiOSGen/\n",
    "│── preprocess/            \n",
    "│   ├── __init__.py      \n",
    "│   ├── dataloader.py            \n",
    "│   ├── patches_utils.py    \n",
    "│   ├── tissue_mask.py   \n",
    "| ..\n",
    "```\n",
    "\n",
    "In this repository, the `preprocess` folder contains all the necessary files for data preparation. The main files are:\n",
    "\n",
    "- `dataloader.py`: Contains the `AntibodiesTree` class for loading, connecting linked files over directories, and create a tree to record links to the images, their corresponding masks, and associated bbox_informations. \n",
    "- `patches_utils.py`: Provides utilities for images and patches manipulation. \n",
    "- `tissue_mask.py`: Contains helper function to extract patches in the mask region applied on the histology images.\n",
    "\n",
    "These files work together to ensure that the data is properly prepared for training the model.\n"
   ]
  },
  {
   "cell_type": "markdown",
   "id": "43c1aa72",
   "metadata": {},
   "source": [
    "### Environment Setup"
   ]
  },
  {
   "cell_type": "markdown",
   "id": "3ce41873",
   "metadata": {},
   "source": [
    "!chmod +x scripts/setup_env.sh\n",
    "!./scripts/setup_env.sh"
   ]
  },
  {
   "cell_type": "markdown",
   "id": "016b6e19",
   "metadata": {},
   "source": [
    "### Data Installation"
   ]
  },
  {
   "cell_type": "code",
   "execution_count": null,
   "id": "a2e40cda",
   "metadata": {},
   "outputs": [],
   "source": [
    "!chmod +x scripts/data_installer.sh\n",
    "!./scripts/data_installer.sh"
   ]
  },
  {
   "cell_type": "markdown",
   "id": "54c5baa4",
   "metadata": {},
   "source": [
    "## Data Visualization\n",
    "\n",
    "To visualize the data, we need to follow several steps:\n",
    "1. **Load the Dataset**: Use the `AntibodiesTree` class from `dataloader.py` to load the dataset and create a tree structure that links images, masks, and bounding box information.\n",
    "2. **Extract Patches**: Use the `patches_utils.py` to extract patches from the images and masks.\n",
    "3. **Visualize Patches**: Use a visualization library like Matplotlib to display the extracted patches."
   ]
  },
  {
   "cell_type": "markdown",
   "id": "892695f6",
   "metadata": {},
   "source": [
    "**Import libraries:**"
   ]
  },
  {
   "cell_type": "code",
   "execution_count": null,
   "id": "3a8bdd17",
   "metadata": {},
   "outputs": [],
   "source": [
    "# Basic libraries\n",
    "import os\n",
    "from PIL import Image\n",
    "import sys\n",
    "sys.path.append(os.path.abspath(os.path.join(os.path.dirname(__file__), '..')))\n",
    "\n",
    "# Personalized modules\n",
    "from preprocess.dataloader import AntibodiesTree\n",
    "from preprocess.patches_utils import PatchesUtilities"
   ]
  },
  {
   "cell_type": "markdown",
   "id": "91647e1c",
   "metadata": {},
   "source": [
    "**Hyperpameter:**"
   ]
  },
  {
   "cell_type": "code",
   "execution_count": null,
   "id": "cf2eca16",
   "metadata": {},
   "outputs": [],
   "source": [
    "data_dir = \"<data_directory>\"\n",
    "original_stain = \"<original_stain>\"\n",
    "style_stain = \"<style_stain>\""
   ]
  },
  {
   "cell_type": "markdown",
   "id": "b0b7b262",
   "metadata": {},
   "source": [
    "### Step 1: Load the Dataset"
   ]
  },
  {
   "cell_type": "code",
   "execution_count": null,
   "id": "12ad4e63",
   "metadata": {},
   "outputs": [],
   "source": [
    "tree_src = AntibodiesTree(\n",
    "    image_dir = os.path.join(data_dir, original_stain),\n",
    "    mask_dir = os.path.join(data_dir, \"tissue_masks\", original_stain),\n",
    "    npz_dir = os.path.join(data_dir, \"bbox_info\", f\"{original_stain}_{style_stain}\", original_stain)\n",
    ")\n",
    "\n",
    "# DST antibodies\n",
    "tree_dst = AntibodiesTree(\n",
    "    image_dir = os.path.join(data_dir, style_stain),\n",
    "    mask_dir = os.path.join(data_dir, \"tissue_masks\", style_stain),\n",
    "    npz_dir = os.path.join(data_dir, \"bbox_info\", f\"{original_stain}_{style_stain}\", style_stain)\n",
    ")"
   ]
  },
  {
   "cell_type": "code",
   "execution_count": null,
   "id": "264c8170",
   "metadata": {},
   "outputs": [],
   "source": [
    "print(\"Nb antibodies: \", tree_src.get_nb_antibodies())\n",
    "print(\"Nb antibodies: \", tree_dst.get_nb_antibodies())"
   ]
  },
  {
   "cell_type": "markdown",
   "id": "8ee19cd4",
   "metadata": {},
   "source": [
    "### Step 2 + 3: Extract Patches + Visulization"
   ]
  },
  {
   "cell_type": "markdown",
   "id": "04cab722",
   "metadata": {},
   "source": [
    "**Tissue mask associated to the first source and style antibody:**"
   ]
  },
  {
   "cell_type": "code",
   "execution_count": null,
   "id": "26cf24a2",
   "metadata": {},
   "outputs": [],
   "source": [
    "tissue_mask_src = PatchesUtilities.get_tissue_mask(image=Image.open(tree_src.antibodies[0]))\n",
    "\n",
    "tissue_mask_dst = PatchesUtilities.get_tissue_mask(image=Image.open(tree_dst.antibodies[0]))"
   ]
  },
  {
   "cell_type": "markdown",
   "id": "26c63e86",
   "metadata": {},
   "source": [
    "**Extract patches from the first source and style antibody:**"
   ]
  },
  {
   "cell_type": "code",
   "execution_count": null,
   "id": "9445daaa",
   "metadata": {},
   "outputs": [],
   "source": [
    "patches_src = PatchesUtilities.get_image_patches(\n",
    "    image=Image.open(tree_src.antibodies[0]),\n",
    "    tissue_mask=tissue_mask_src,\n",
    "    is_visualize=True\n",
    ")\n",
    "\n",
    "patches_dst = PatchesUtilities.get_image_patches(\n",
    "    image=Image.open(tree_dst.antibodies[0]),\n",
    "    tissue_mask=tissue_mask_dst,\n",
    "    is_visualize=True\n",
    ")"
   ]
  },
  {
   "cell_type": "markdown",
   "id": "870ec59f",
   "metadata": {},
   "source": [
    "---"
   ]
  }
 ],
 "metadata": {
  "kernelspec": {
   "display_name": "fuzzsim",
   "language": "python",
   "name": "python3"
  },
  "language_info": {
   "codemirror_mode": {
    "name": "ipython",
    "version": 3
   },
   "file_extension": ".py",
   "mimetype": "text/x-python",
   "name": "python",
   "nbconvert_exporter": "python",
   "pygments_lexer": "ipython3",
   "version": "3.10.16"
  }
 },
 "nbformat": 4,
 "nbformat_minor": 5
}
