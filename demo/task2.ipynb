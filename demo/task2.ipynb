{
 "cells": [
  {
   "cell_type": "markdown",
   "id": "55b1464b",
   "metadata": {},
   "source": [
    "# Task 2: Train - Test - Model Evaluation"
   ]
  },
  {
   "cell_type": "markdown",
   "id": "5820b9ac",
   "metadata": {},
   "source": [
    "## Overview\n",
    "This task involves training, testing, and evaluating model performance using a specified configuration and dataset."
   ]
  },
  {
   "cell_type": "code",
   "execution_count": null,
   "id": "19e0cf04",
   "metadata": {},
   "outputs": [],
   "source": [
    "!python bin/train.py \\\n",
    "    --config configs/config.yml \\\n",
    "    --original <original_style> \\\n",
    "    --style <destination_style> \\\n",
    "    --checkpoints checkpoints \\\n",
    "    --data data"
   ]
  },
  {
   "cell_type": "code",
   "execution_count": null,
   "id": "4caa0fb0",
   "metadata": {},
   "outputs": [],
   "source": [
    "!python bin/test.py \\\n",
    "    --config configs/config.yml \\\n",
    "    --original <original_style> \\\n",
    "    --style <destination_style> \\\n",
    "    --checkpoints <best_checkpoint_weight> \\\n",
    "    --data data \\\n",
    "    --results results"
   ]
  },
  {
   "cell_type": "code",
   "execution_count": null,
   "id": "17c65e3f",
   "metadata": {},
   "outputs": [],
   "source": [
    "!python bin/eval.py \\\n",
    "\t--original <original_style> \\\n",
    "\t--style <destination_style> \\\n",
    "\t--results <generated_results>"
   ]
  }
 ],
 "metadata": {
  "kernelspec": {
   "display_name": "fuzzsim",
   "language": "python",
   "name": "python3"
  },
  "language_info": {
   "name": "python",
   "version": "3.10.16"
  }
 },
 "nbformat": 4,
 "nbformat_minor": 5
}
