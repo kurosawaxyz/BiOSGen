{
 "cells": [
  {
   "cell_type": "markdown",
   "id": "56a9eeb3",
   "metadata": {},
   "source": [
    "# Process data"
   ]
  },
  {
   "cell_type": "markdown",
   "id": "5278fbb0",
   "metadata": {},
   "source": [
    "A1_TMA_15_02_IIB_HE_00.10785_10.2\n",
    "A1_TMA_15_02_IB_HE"
   ]
  },
  {
   "cell_type": "code",
   "execution_count": null,
   "id": "e3c8b7f1",
   "metadata": {},
   "outputs": [],
   "source": []
  }
 ],
 "metadata": {
  "kernelspec": {
   "display_name": "biosgen",
   "language": "python",
   "name": "python3"
  },
  "language_info": {
   "codemirror_mode": {
    "name": "ipython",
    "version": 3
   },
   "file_extension": ".py",
   "mimetype": "text/x-python",
   "name": "python",
   "nbconvert_exporter": "python",
   "pygments_lexer": "ipython3",
   "version": "3.13.3"
  }
 },
 "nbformat": 4,
 "nbformat_minor": 5
}
